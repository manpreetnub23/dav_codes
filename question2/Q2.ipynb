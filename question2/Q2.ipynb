{
 "cells": [
  {
   "cell_type": "code",
   "execution_count": 1,
   "id": "c469070c-b7bf-4349-819c-957f180c807f",
   "metadata": {},
   "outputs": [],
   "source": [
    "import numpy as np"
   ]
  },
  {
   "cell_type": "code",
   "execution_count": 3,
   "id": "33a574ba-4a1f-4cb7-94d8-8260255bc4dd",
   "metadata": {},
   "outputs": [
    {
     "name": "stdout",
     "output_type": "stream",
     "text": [
      "[[1 1 5 9]\n",
      " [5 1 7 0]\n",
      " [5 8 8 2]\n",
      " [2 4 2 4]]\n"
     ]
    }
   ],
   "source": [
    "arr = np.random.randint(0,10,(4,4))\n",
    "print(arr)"
   ]
  },
  {
   "cell_type": "code",
   "execution_count": 6,
   "id": "ded69e90-55bf-42f7-ae4a-727a3c0e47bc",
   "metadata": {},
   "outputs": [
    {
     "name": "stdout",
     "output_type": "stream",
     "text": [
      "Mean :  [4.   3.25 5.75 3.  ]\n",
      "Standard Deviation :  [3.31662479 2.86138079 2.48746859 1.        ]\n",
      "Variance :  [11.      8.1875  6.1875  1.    ]\n"
     ]
    }
   ],
   "source": [
    "print('Mean : ',np.mean(arr, axis=1))\n",
    "print('Standard Deviation : ', np.std(arr, axis=1))\n",
    "print('Variance : ', np.var(arr, axis=1))"
   ]
  },
  {
   "cell_type": "code",
   "execution_count": 13,
   "id": "2df6c21a-228a-4c2d-8801-4ce4f5287185",
   "metadata": {},
   "outputs": [
    {
     "name": "stdout",
     "output_type": "stream",
     "text": [
      "[ 8 22 24 33 41 46 48 56 78 91]\n",
      "[8 2 6 9 3 7 1 0 4 5]\n"
     ]
    }
   ],
   "source": [
    "B = np.array([56,48,22,41,78,91,24,46,8,33])\n",
    "print(np.sort(B))\n",
    "print(np.argsort(B))"
   ]
  },
  {
   "cell_type": "code",
   "execution_count": 28,
   "id": "c9d93d77-2cd8-42af-a423-1654ea596e60",
   "metadata": {},
   "outputs": [
    {
     "name": "stdin",
     "output_type": "stream",
     "text": [
      "Rows :  3\n",
      "Columns :  4\n",
      " [1,2,3,4,5,6,7,8,9,10,11,12]\n"
     ]
    },
    {
     "name": "stdout",
     "output_type": "stream",
     "text": [
      "[[ 1  2  3  4]\n",
      " [ 5  6  7  8]\n",
      " [ 9 10 11 12]]\n"
     ]
    }
   ],
   "source": [
    "m = int(input('Rows : '))\n",
    "n = int(input('Columns : '))\n",
    "l1 = eval(input())\n",
    "arr1 = np.array(l1).reshape(m,n)\n",
    "#arr1 = np.arange(1,13).reshape(m,n)\n",
    "print(arr1)"
   ]
  },
  {
   "cell_type": "code",
   "execution_count": 24,
   "id": "c6a7cb03-d579-4a39-b1f4-93ea240bd9cc",
   "metadata": {},
   "outputs": [
    {
     "name": "stdout",
     "output_type": "stream",
     "text": [
      "(3, 4)\n",
      "int32\n",
      "<class 'numpy.ndarray'>\n",
      "[[ 1  2  3]\n",
      " [ 4  5  6]\n",
      " [ 7  8  9]\n",
      " [10 11 12]]\n"
     ]
    }
   ],
   "source": [
    "print(arr1.shape)\n",
    "print(arr1.dtype)\n",
    "print(type(arr1))\n",
    "print(arr1.reshape(n,m))"
   ]
  },
  {
   "cell_type": "code",
   "execution_count": 30,
   "id": "dd2ab3b6-fe38-4138-b207-ded98ffa410a",
   "metadata": {},
   "outputs": [
    {
     "name": "stdout",
     "output_type": "stream",
     "text": [
      "[[2 0 5 3]\n",
      " [8 0 7 9]\n",
      " [4 3 1 7]\n",
      " [5 0 6 9]]\n"
     ]
    }
   ],
   "source": [
    "arr2 = np.random.randint(0,10,(4,4))\n",
    "print(arr2)"
   ]
  },
  {
   "cell_type": "code",
   "execution_count": 39,
   "id": "60721ddb-58e9-4136-b5b8-4230a8a89dec",
   "metadata": {},
   "outputs": [
    {
     "name": "stdin",
     "output_type": "stream",
     "text": [
      " [1,2,np.nan,3,4,np.nan,np.nan,5]\n"
     ]
    },
    {
     "name": "stdout",
     "output_type": "stream",
     "text": [
      "[[ 1.  2. nan  3.]\n",
      " [ 4. nan nan  5.]]\n",
      "Non Zero elements :  [[ True False  True  True]\n",
      " [ True False  True  True]\n",
      " [ True  True  True  True]\n",
      " [ True False  True  True]]\n",
      "Indices of non zero elements :  [[0 0]\n",
      " [0 2]\n",
      " [0 3]\n",
      " [1 0]\n",
      " [1 2]\n",
      " [1 3]\n",
      " [2 0]\n",
      " [2 1]\n",
      " [2 2]\n",
      " [2 3]\n",
      " [3 0]\n",
      " [3 2]\n",
      " [3 3]]\n",
      " Zero elements :  [[False  True False False]\n",
      " [False  True False False]\n",
      " [False False False False]\n",
      " [False  True False False]]\n",
      "Indices of zero elements :  [[0 1]\n",
      " [1 1]\n",
      " [3 1]]\n",
      "Nan elements :  [[False False  True False]\n",
      " [False  True  True False]]\n",
      "Indices of nan elements :  [[0 2]\n",
      " [1 1]\n",
      " [1 2]]\n"
     ]
    }
   ],
   "source": [
    "arr3 = np.array(eval(input())).reshape(2,4)\n",
    "print(arr3)\n",
    "print('Non Zero elements : ', arr2 != 0)\n",
    "print('Indices of non zero elements : ', np.argwhere(arr2 != 0))\n",
    "print(' Zero elements : ', arr2 == 0)\n",
    "print('Indices of zero elements : ', np.argwhere(arr2 == 0))\n",
    "print('Nan elements : ', np.isnan(arr3))\n",
    "print('Indices of nan elements : ', np.argwhere(np.isnan(arr3)))"
   ]
  },
  {
   "cell_type": "code",
   "execution_count": null,
   "id": "87667740-de6a-41c8-b5e0-d49e0642d46a",
   "metadata": {},
   "outputs": [],
   "source": []
  }
 ],
 "metadata": {
  "kernelspec": {
   "display_name": "Python 3 (ipykernel)",
   "language": "python",
   "name": "python3"
  },
  "language_info": {
   "codemirror_mode": {
    "name": "ipython",
    "version": 3
   },
   "file_extension": ".py",
   "mimetype": "text/x-python",
   "name": "python",
   "nbconvert_exporter": "python",
   "pygments_lexer": "ipython3",
   "version": "3.11.5"
  }
 },
 "nbformat": 4,
 "nbformat_minor": 5
}
