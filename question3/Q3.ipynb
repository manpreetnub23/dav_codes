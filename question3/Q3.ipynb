{
 "cells": [
  {
   "cell_type": "code",
   "execution_count": 1,
   "id": "de5371b6-5d99-4db0-8d87-f38cc7dd4ee7",
   "metadata": {},
   "outputs": [],
   "source": [
    "import numpy as np\n",
    "import pandas as pd"
   ]
  },
  {
   "cell_type": "code",
   "execution_count": 2,
   "id": "77bc650e-643c-44e3-8dee-9fe02b6f3359",
   "metadata": {},
   "outputs": [
    {
     "name": "stdout",
     "output_type": "stream",
     "text": [
      "   One  Two  Three\n",
      "0    4    6      5\n",
      "1    7    7      7\n",
      "2    2    6      5\n",
      "3    3    9      0\n",
      "4    1    2      1\n"
     ]
    }
   ],
   "source": [
    "df = pd.DataFrame(np.random.randint(0,10,(50,3)),columns=['One','Two','Three'])\n",
    "print(df.head())"
   ]
  },
  {
   "cell_type": "code",
   "execution_count": 3,
   "id": "b7ce94a1-16c8-43e9-a03b-ba951036eb42",
   "metadata": {},
   "outputs": [
    {
     "name": "stdout",
     "output_type": "stream",
     "text": [
      "Size of dataframe 150\n",
      "10% values of given dataframe :  15\n"
     ]
    }
   ],
   "source": [
    "print('Size of dataframe',np.size(df))\n",
    "nm = int(np.size(df)*0.1)\n",
    "print('10% values of given dataframe : ',nm)"
   ]
  },
  {
   "cell_type": "code",
   "execution_count": 8,
   "id": "cafa9391-a5cb-4888-bcd8-980880bdd0d3",
   "metadata": {},
   "outputs": [
    {
     "name": "stdout",
     "output_type": "stream",
     "text": [
      "   One  Two  Three\n",
      "0  1.0  NaN    0.0\n",
      "1  6.0  0.0    6.0\n",
      "2  0.0  4.0    2.0\n",
      "3  7.0  7.0    4.0\n",
      "4  9.0  8.0    7.0\n",
      "Number of null values :  15\n"
     ]
    }
   ],
   "source": [
    "for i in range(nm):\n",
    "    icol = np.random.choice(df.columns)\n",
    "    irow = np.random.choice(df.index)\n",
    "    while np.isnan(df.loc[irow,icol]):\n",
    "        icol = np.random.choice(df.columns)\n",
    "        irow = np.random.choice(df.index)\n",
    "    df.loc[irow,icol] = np.nan\n",
    "print(df.head())\n",
    "print('Number of null values : ', np.isnan(df).sum().sum())"
   ]
  },
  {
   "cell_type": "code",
   "execution_count": 10,
   "id": "48ae6f22-6990-4518-a1a9-fc4998e2fd84",
   "metadata": {},
   "outputs": [
    {
     "name": "stdout",
     "output_type": "stream",
     "text": [
      "   One  Three\n",
      "0  1.0    0.0\n",
      "1  6.0    6.0\n",
      "2  0.0    2.0\n",
      "3  7.0    4.0\n",
      "4  9.0    7.0\n"
     ]
    }
   ],
   "source": [
    "temp = df.copy()\n",
    "temp.dropna(thresh = df.shape[0] - 4,axis=1,inplace = True)\n",
    "print(temp.head())"
   ]
  },
  {
   "cell_type": "code",
   "execution_count": 22,
   "id": "76f78b8b-6d4e-43a3-9a81-d14e10f94f74",
   "metadata": {},
   "outputs": [
    {
     "name": "stdout",
     "output_type": "stream",
     "text": [
      "    One  Two  Three\n",
      "0   1.0  NaN    0.0\n",
      "1   6.0  0.0    6.0\n",
      "2   0.0  4.0    2.0\n",
      "3   7.0  7.0    4.0\n",
      "4   7.0  4.0    7.0\n",
      "5   NaN  9.0    4.0\n",
      "6   5.0  6.0    7.0\n",
      "7   8.0  2.0    5.0\n",
      "8   6.0  9.0    6.0\n",
      "9   4.0  2.0    2.0\n",
      "10  6.0  NaN    0.0\n",
      "11  2.0  2.0    2.0\n",
      "12  3.0  1.0    0.0\n",
      "13  3.0  7.0    NaN\n",
      "14  0.0  NaN    0.0\n",
      "15  4.0  8.0    NaN\n",
      "16  1.0  4.0    1.0\n",
      "17  3.0  2.0    8.0\n",
      "18  7.0  2.0    NaN\n",
      "19  2.0  1.0    2.0\n",
      "20  9.0  7.0    6.0\n",
      "21  6.0  2.0    1.0\n",
      "22  5.0  6.0    0.0\n",
      "23  9.0  8.0    NaN\n",
      "24  0.0  0.0    7.0\n",
      "25  8.0  NaN    1.0\n",
      "26  3.0  1.0    1.0\n",
      "27  NaN  5.0    2.0\n",
      "28  3.0  7.0    2.0\n",
      "29  NaN  8.0    9.0\n",
      "30  7.0  9.0    5.0\n",
      "31  8.0  8.0    0.0\n",
      "32  5.0  4.0    4.0\n",
      "33  5.0  NaN    2.0\n",
      "34  3.0  2.0    9.0\n",
      "35  2.0  1.0    0.0\n",
      "36  0.0  5.0    9.0\n",
      "37  2.0  2.0    1.0\n",
      "38  9.0  3.0    0.0\n",
      "39  0.0  9.0    2.0\n",
      "40  8.0  4.0    6.0\n",
      "41  0.0  1.0    5.0\n",
      "42  7.0  9.0    0.0\n",
      "43  3.0  8.0    2.0\n",
      "44  NaN  7.0    2.0\n",
      "45  0.0  NaN    6.0\n",
      "46  0.0  NaN    0.0\n",
      "47  1.0  4.0    5.0\n",
      "48  8.0  0.0    5.0\n"
     ]
    }
   ],
   "source": [
    "temp1 = df.copy()\n",
    "print(temp1.drop(index = temp1.sum(axis=1).idxmax(),axis=0).reset_index().drop(columns = 'index'))"
   ]
  },
  {
   "cell_type": "code",
   "execution_count": 28,
   "id": "5130f3fb-a5f1-483c-ae78-e10308cc223e",
   "metadata": {},
   "outputs": [
    {
     "name": "stdout",
     "output_type": "stream",
     "text": [
      "   One  Two  Three\n",
      "0  1.0  NaN    0.0\n",
      "1  6.0  0.0    6.0\n",
      "2  0.0  4.0    2.0\n",
      "3  7.0  7.0    4.0\n",
      "4  9.0  8.0    7.0\n",
      "    One  Two  Three\n",
      "37  0.0  5.0    9.0\n",
      "47  0.0  NaN    0.0\n",
      "2   0.0  4.0    2.0\n",
      "46  0.0  NaN    6.0\n",
      "15  0.0  NaN    0.0\n",
      "42  0.0  1.0    5.0\n",
      "40  0.0  9.0    2.0\n",
      "25  0.0  0.0    7.0\n",
      "48  1.0  4.0    5.0\n",
      "0   1.0  NaN    0.0\n",
      "17  1.0  4.0    1.0\n",
      "36  2.0  1.0    0.0\n",
      "12  2.0  2.0    2.0\n",
      "38  2.0  2.0    1.0\n",
      "20  2.0  1.0    2.0\n",
      "29  3.0  7.0    2.0\n",
      "35  3.0  2.0    9.0\n",
      "13  3.0  1.0    0.0\n",
      "14  3.0  7.0    NaN\n",
      "44  3.0  8.0    2.0\n",
      "18  3.0  2.0    8.0\n",
      "27  3.0  1.0    1.0\n",
      "16  4.0  8.0    NaN\n",
      "10  4.0  2.0    2.0\n",
      "34  5.0  NaN    2.0\n",
      "33  5.0  4.0    4.0\n",
      "23  5.0  6.0    0.0\n",
      "7   5.0  6.0    7.0\n",
      "22  6.0  2.0    1.0\n",
      "1   6.0  0.0    6.0\n",
      "11  6.0  NaN    0.0\n",
      "9   6.0  9.0    6.0\n",
      "31  7.0  9.0    5.0\n",
      "19  7.0  2.0    NaN\n",
      "5   7.0  4.0    7.0\n",
      "43  7.0  9.0    0.0\n",
      "3   7.0  7.0    4.0\n",
      "49  8.0  0.0    5.0\n",
      "32  8.0  8.0    0.0\n",
      "8   8.0  2.0    5.0\n",
      "26  8.0  NaN    1.0\n",
      "41  8.0  4.0    6.0\n",
      "24  9.0  8.0    NaN\n",
      "21  9.0  7.0    6.0\n",
      "4   9.0  8.0    7.0\n",
      "39  9.0  3.0    0.0\n",
      "6   NaN  9.0    4.0\n",
      "28  NaN  5.0    2.0\n",
      "30  NaN  8.0    9.0\n",
      "45  NaN  7.0    2.0\n"
     ]
    }
   ],
   "source": [
    "temp2 = df.copy()\n",
    "print(temp2.head())\n",
    "temp2.sort_values(by = 'One',axis = 0,inplace = True)\n",
    "print(temp2)"
   ]
  },
  {
   "cell_type": "code",
   "execution_count": 29,
   "id": "cb53021e-bd1f-40c6-aaf7-c28af97cebab",
   "metadata": {},
   "outputs": [
    {
     "name": "stdout",
     "output_type": "stream",
     "text": [
      "    One  Two  Three\n",
      "37  0.0  5.0    9.0\n",
      "48  1.0  4.0    5.0\n",
      "36  2.0  1.0    0.0\n",
      "29  3.0  7.0    2.0\n",
      "16  4.0  8.0    NaN\n",
      "34  5.0  NaN    2.0\n",
      "22  6.0  2.0    1.0\n",
      "31  7.0  9.0    5.0\n",
      "49  8.0  0.0    5.0\n",
      "24  9.0  8.0    NaN\n",
      "6   NaN  9.0    4.0\n"
     ]
    }
   ],
   "source": [
    "print(temp2.drop_duplicates(['One']))"
   ]
  },
  {
   "cell_type": "code",
   "execution_count": 33,
   "id": "b64587a5-d779-46f8-b570-7f5e4fd73cf0",
   "metadata": {},
   "outputs": [
    {
     "data": {
      "text/plain": [
       "0.2774835092531421"
      ]
     },
     "execution_count": 33,
     "metadata": {},
     "output_type": "execute_result"
    }
   ],
   "source": [
    "df['One'].corr(df['Two'])"
   ]
  },
  {
   "cell_type": "code",
   "execution_count": 3,
   "id": "15943da2-b85b-4a67-b865-96a4cd2a9e86",
   "metadata": {},
   "outputs": [
    {
     "data": {
      "text/html": [
       "<div>\n",
       "<style scoped>\n",
       "    .dataframe tbody tr th:only-of-type {\n",
       "        vertical-align: middle;\n",
       "    }\n",
       "\n",
       "    .dataframe tbody tr th {\n",
       "        vertical-align: top;\n",
       "    }\n",
       "\n",
       "    .dataframe thead th {\n",
       "        text-align: right;\n",
       "    }\n",
       "</style>\n",
       "<table border=\"1\" class=\"dataframe\">\n",
       "  <thead>\n",
       "    <tr style=\"text-align: right;\">\n",
       "      <th></th>\n",
       "      <th>One</th>\n",
       "      <th>Two</th>\n",
       "      <th>Three</th>\n",
       "    </tr>\n",
       "  </thead>\n",
       "  <tbody>\n",
       "    <tr>\n",
       "      <th>46</th>\n",
       "      <td>1</td>\n",
       "      <td>7</td>\n",
       "      <td>8</td>\n",
       "    </tr>\n",
       "    <tr>\n",
       "      <th>47</th>\n",
       "      <td>4</td>\n",
       "      <td>1</td>\n",
       "      <td>5</td>\n",
       "    </tr>\n",
       "    <tr>\n",
       "      <th>48</th>\n",
       "      <td>3</td>\n",
       "      <td>7</td>\n",
       "      <td>7</td>\n",
       "    </tr>\n",
       "    <tr>\n",
       "      <th>49</th>\n",
       "      <td>5</td>\n",
       "      <td>2</td>\n",
       "      <td>0</td>\n",
       "    </tr>\n",
       "    <tr>\n",
       "      <th>50</th>\n",
       "      <td>-200</td>\n",
       "      <td>504</td>\n",
       "      <td>300</td>\n",
       "    </tr>\n",
       "  </tbody>\n",
       "</table>\n",
       "</div>"
      ],
      "text/plain": [
       "    One  Two  Three\n",
       "46    1    7      8\n",
       "47    4    1      5\n",
       "48    3    7      7\n",
       "49    5    2      0\n",
       "50 -200  504    300"
      ]
     },
     "execution_count": 3,
     "metadata": {},
     "output_type": "execute_result"
    }
   ],
   "source": [
    "temp3 = df.copy()\n",
    "d = {'One':[-200],'Two':[504],'Three':[300]}\n",
    "dftemp = pd.DataFrame(d)\n",
    "temp3 = pd.concat([temp3,dftemp],ignore_index=True)\n",
    "temp3.tail(5)"
   ]
  },
  {
   "cell_type": "code",
   "execution_count": 5,
   "id": "b2ac2814-dc5d-46df-aa82-40efcdd9e525",
   "metadata": {},
   "outputs": [
    {
     "name": "stdout",
     "output_type": "stream",
     "text": [
      "              One         Two       Three\n",
      "count   51.000000   51.000000   51.000000\n",
      "mean     0.235294   14.176471   10.137255\n",
      "std     28.721830   70.010201   41.476750\n",
      "min   -200.000000    0.000000    0.000000\n",
      "25%      2.000000    2.000000    2.500000\n",
      "50%      4.000000    5.000000    5.000000\n",
      "75%      6.500000    6.000000    6.500000\n",
      "max      9.000000  504.000000  300.000000\n",
      "One      4.5\n",
      "Two      4.0\n",
      "Three    4.0\n",
      "dtype: float64 One     -4.75\n",
      "Two     -4.00\n",
      "Three   -3.50\n",
      "dtype: float64 One      13.25\n",
      "Two      12.00\n",
      "Three    12.50\n",
      "dtype: float64\n",
      "-200\n",
      "    One  Two  Three\n",
      "45    3    2      1\n",
      "46    1    7      8\n",
      "47    4    1      5\n",
      "48    3    7      7\n",
      "49    5    2      0\n"
     ]
    }
   ],
   "source": [
    "des = temp3.describe()\n",
    "print(des)\n",
    "iqr = des.loc['75%'] - des.loc['25%']\n",
    "low = des.loc['25%'] - 1.5*iqr\n",
    "high = des.loc['75%'] + 1.5*iqr\n",
    "print(iqr,low,high)\n",
    "for j in temp3.columns: \n",
    "    for i in temp3.index:\n",
    "        if temp3.loc[i,j] < low[j] or temp3.loc[i,j] > high[j]:\n",
    "            print(temp3.loc[i,j])\n",
    "            temp3.drop(i,axis=0,inplace= True)\n",
    "print(temp3.tail(5))"
   ]
  },
  {
   "cell_type": "code",
   "execution_count": 11,
   "id": "b9b8c4ca-a0cc-4d9e-9642-b47e677512e4",
   "metadata": {},
   "outputs": [
    {
     "data": {
      "text/plain": [
       "0        (3.6, 6.0]\n",
       "1        (6.0, 7.0]\n",
       "2        (3.6, 6.0]\n",
       "3        (7.0, 9.0]\n",
       "4     (-0.001, 2.0]\n",
       "5        (2.0, 3.6]\n",
       "6     (-0.001, 2.0]\n",
       "7        (3.6, 6.0]\n",
       "8        (2.0, 3.6]\n",
       "9        (6.0, 7.0]\n",
       "10       (7.0, 9.0]\n",
       "11    (-0.001, 2.0]\n",
       "12       (3.6, 6.0]\n",
       "13    (-0.001, 2.0]\n",
       "14       (3.6, 6.0]\n",
       "15       (3.6, 6.0]\n",
       "16    (-0.001, 2.0]\n",
       "17       (3.6, 6.0]\n",
       "18    (-0.001, 2.0]\n",
       "19       (2.0, 3.6]\n",
       "20       (3.6, 6.0]\n",
       "21    (-0.001, 2.0]\n",
       "22       (3.6, 6.0]\n",
       "23       (3.6, 6.0]\n",
       "24       (3.6, 6.0]\n",
       "25       (3.6, 6.0]\n",
       "26       (6.0, 7.0]\n",
       "27       (3.6, 6.0]\n",
       "28    (-0.001, 2.0]\n",
       "29       (6.0, 7.0]\n",
       "30       (3.6, 6.0]\n",
       "31       (7.0, 9.0]\n",
       "32       (3.6, 6.0]\n",
       "33       (3.6, 6.0]\n",
       "34    (-0.001, 2.0]\n",
       "35       (7.0, 9.0]\n",
       "36       (3.6, 6.0]\n",
       "37       (3.6, 6.0]\n",
       "38       (2.0, 3.6]\n",
       "39    (-0.001, 2.0]\n",
       "40    (-0.001, 2.0]\n",
       "41       (7.0, 9.0]\n",
       "42       (3.6, 6.0]\n",
       "43    (-0.001, 2.0]\n",
       "44    (-0.001, 2.0]\n",
       "45    (-0.001, 2.0]\n",
       "46       (6.0, 7.0]\n",
       "47    (-0.001, 2.0]\n",
       "48       (6.0, 7.0]\n",
       "49    (-0.001, 2.0]\n",
       "Name: Two, dtype: category\n",
       "Categories (5, interval[float64, right]): [(-0.001, 2.0] < (2.0, 3.6] < (3.6, 6.0] < (6.0, 7.0] < (7.0, 9.0]]"
      ]
     },
     "execution_count": 11,
     "metadata": {},
     "output_type": "execute_result"
    }
   ],
   "source": [
    "pd.qcut(df['Two'],5)"
   ]
  }
 ],
 "metadata": {
  "kernelspec": {
   "display_name": "Python 3 (ipykernel)",
   "language": "python",
   "name": "python3"
  },
  "language_info": {
   "codemirror_mode": {
    "name": "ipython",
    "version": 3
   },
   "file_extension": ".py",
   "mimetype": "text/x-python",
   "name": "python",
   "nbconvert_exporter": "python",
   "pygments_lexer": "ipython3",
   "version": "3.11.5"
  }
 },
 "nbformat": 4,
 "nbformat_minor": 5
}
