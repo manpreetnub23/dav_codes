{
 "cells": [
  {
   "cell_type": "code",
   "execution_count": 1,
   "id": "4b4b247c-a1ab-4a73-b553-8bf4b73b7a92",
   "metadata": {},
   "outputs": [],
   "source": [
    "import pandas as pd"
   ]
  },
  {
   "cell_type": "code",
   "execution_count": 4,
   "id": "2d79ddd3-333a-4b8b-b669-333052cb7748",
   "metadata": {},
   "outputs": [
    {
     "data": {
      "text/html": [
       "<div>\n",
       "<style scoped>\n",
       "    .dataframe tbody tr th:only-of-type {\n",
       "        vertical-align: middle;\n",
       "    }\n",
       "\n",
       "    .dataframe tbody tr th {\n",
       "        vertical-align: top;\n",
       "    }\n",
       "\n",
       "    .dataframe thead th {\n",
       "        text-align: right;\n",
       "    }\n",
       "</style>\n",
       "<table border=\"1\" class=\"dataframe\">\n",
       "  <thead>\n",
       "    <tr style=\"text-align: right;\">\n",
       "      <th></th>\n",
       "      <th>Name</th>\n",
       "      <th>Gender</th>\n",
       "      <th>MonthlyIncome (Rs.)</th>\n",
       "    </tr>\n",
       "  </thead>\n",
       "  <tbody>\n",
       "    <tr>\n",
       "      <th>0</th>\n",
       "      <td>Shah</td>\n",
       "      <td>Male</td>\n",
       "      <td>114000.0</td>\n",
       "    </tr>\n",
       "    <tr>\n",
       "      <th>1</th>\n",
       "      <td>Vats</td>\n",
       "      <td>Male</td>\n",
       "      <td>65000.0</td>\n",
       "    </tr>\n",
       "    <tr>\n",
       "      <th>2</th>\n",
       "      <td>Vats</td>\n",
       "      <td>Female</td>\n",
       "      <td>43150.0</td>\n",
       "    </tr>\n",
       "    <tr>\n",
       "      <th>3</th>\n",
       "      <td>Kumar</td>\n",
       "      <td>Female</td>\n",
       "      <td>69500.0</td>\n",
       "    </tr>\n",
       "    <tr>\n",
       "      <th>4</th>\n",
       "      <td>Vats</td>\n",
       "      <td>Female</td>\n",
       "      <td>155000.0</td>\n",
       "    </tr>\n",
       "    <tr>\n",
       "      <th>5</th>\n",
       "      <td>Kumar</td>\n",
       "      <td>Male</td>\n",
       "      <td>103000.0</td>\n",
       "    </tr>\n",
       "    <tr>\n",
       "      <th>6</th>\n",
       "      <td>Shah</td>\n",
       "      <td>Male</td>\n",
       "      <td>55000.0</td>\n",
       "    </tr>\n",
       "    <tr>\n",
       "      <th>7</th>\n",
       "      <td>Shah</td>\n",
       "      <td>Female</td>\n",
       "      <td>112400.0</td>\n",
       "    </tr>\n",
       "    <tr>\n",
       "      <th>8</th>\n",
       "      <td>Kumar</td>\n",
       "      <td>Female</td>\n",
       "      <td>81030.0</td>\n",
       "    </tr>\n",
       "    <tr>\n",
       "      <th>9</th>\n",
       "      <td>Vats</td>\n",
       "      <td>Male</td>\n",
       "      <td>71900.0</td>\n",
       "    </tr>\n",
       "  </tbody>\n",
       "</table>\n",
       "</div>"
      ],
      "text/plain": [
       "    Name  Gender  MonthlyIncome (Rs.)\n",
       "0   Shah    Male             114000.0\n",
       "1   Vats    Male              65000.0\n",
       "2   Vats  Female              43150.0\n",
       "3  Kumar  Female              69500.0\n",
       "4   Vats  Female             155000.0\n",
       "5  Kumar    Male             103000.0\n",
       "6   Shah    Male              55000.0\n",
       "7   Shah  Female             112400.0\n",
       "8  Kumar  Female              81030.0\n",
       "9   Vats    Male              71900.0"
      ]
     },
     "metadata": {},
     "output_type": "display_data"
    }
   ],
   "source": [
    "dic = {'Name':['Shah','Vats','Vats','Kumar','Vats','Kumar','Shah','Shah','Kumar','Vats'],\n",
    "      'Gender':['Male','Male','Female','Female','Female','Male','Male','Female','Female','Male'],\n",
    "      'MonthlyIncome (Rs.)':[114000.00,65000.00,43150.00,69500.00,155000.00,103000.00,55000.00,112400.00,81030.00,71900.00]}\n",
    "df = pd.DataFrame(dic)\n",
    "display(df)"
   ]
  },
  {
   "cell_type": "code",
   "execution_count": 6,
   "id": "a747ea11-c122-4d47-a000-e42ba89c8084",
   "metadata": {},
   "outputs": [
    {
     "name": "stdout",
     "output_type": "stream",
     "text": [
      "Gross Income\n",
      " Name\n",
      "Kumar    84510.0\n",
      "Shah     93800.0\n",
      "Vats     83762.5\n",
      "Name: MonthlyIncome (Rs.), dtype: float64\n"
     ]
    }
   ],
   "source": [
    "gross_income = df.groupby('Name')['MonthlyIncome (Rs.)'].mean()\n",
    "print('Gross Income\\n',gross_income)"
   ]
  },
  {
   "cell_type": "code",
   "execution_count": 32,
   "id": "378c54cb-628b-478f-ac90-5263531b1541",
   "metadata": {},
   "outputs": [
    {
     "name": "stdout",
     "output_type": "stream",
     "text": [
      "    Name  Gender  MonthlyIncome (Rs.)\n",
      "0  Kumar    Male             103000.0\n",
      "1   Shah    Male             114000.0\n",
      "2   Vats  Female             155000.0\n"
     ]
    }
   ],
   "source": [
    "temp = df.groupby('Name').idxmax().reset_index()\n",
    "print(df.loc[temp['MonthlyIncome (Rs.)']].reset_index().drop('index',axis=1))"
   ]
  },
  {
   "cell_type": "code",
   "execution_count": 14,
   "id": "d254df7c-b232-4d86-93ae-75e1b220da41",
   "metadata": {},
   "outputs": [
    {
     "name": "stdout",
     "output_type": "stream",
     "text": [
      "Income of all members > 60k\n",
      "\n"
     ]
    },
    {
     "data": {
      "text/html": [
       "<div>\n",
       "<style scoped>\n",
       "    .dataframe tbody tr th:only-of-type {\n",
       "        vertical-align: middle;\n",
       "    }\n",
       "\n",
       "    .dataframe tbody tr th {\n",
       "        vertical-align: top;\n",
       "    }\n",
       "\n",
       "    .dataframe thead th {\n",
       "        text-align: right;\n",
       "    }\n",
       "</style>\n",
       "<table border=\"1\" class=\"dataframe\">\n",
       "  <thead>\n",
       "    <tr style=\"text-align: right;\">\n",
       "      <th></th>\n",
       "      <th>index</th>\n",
       "      <th>Name</th>\n",
       "      <th>Gender</th>\n",
       "      <th>MonthlyIncome (Rs.)</th>\n",
       "    </tr>\n",
       "  </thead>\n",
       "  <tbody>\n",
       "    <tr>\n",
       "      <th>0</th>\n",
       "      <td>0</td>\n",
       "      <td>Shah</td>\n",
       "      <td>Male</td>\n",
       "      <td>114000.0</td>\n",
       "    </tr>\n",
       "    <tr>\n",
       "      <th>1</th>\n",
       "      <td>1</td>\n",
       "      <td>Vats</td>\n",
       "      <td>Male</td>\n",
       "      <td>65000.0</td>\n",
       "    </tr>\n",
       "    <tr>\n",
       "      <th>2</th>\n",
       "      <td>3</td>\n",
       "      <td>Kumar</td>\n",
       "      <td>Female</td>\n",
       "      <td>69500.0</td>\n",
       "    </tr>\n",
       "    <tr>\n",
       "      <th>3</th>\n",
       "      <td>4</td>\n",
       "      <td>Vats</td>\n",
       "      <td>Female</td>\n",
       "      <td>155000.0</td>\n",
       "    </tr>\n",
       "    <tr>\n",
       "      <th>4</th>\n",
       "      <td>5</td>\n",
       "      <td>Kumar</td>\n",
       "      <td>Male</td>\n",
       "      <td>103000.0</td>\n",
       "    </tr>\n",
       "    <tr>\n",
       "      <th>5</th>\n",
       "      <td>7</td>\n",
       "      <td>Shah</td>\n",
       "      <td>Female</td>\n",
       "      <td>112400.0</td>\n",
       "    </tr>\n",
       "    <tr>\n",
       "      <th>6</th>\n",
       "      <td>8</td>\n",
       "      <td>Kumar</td>\n",
       "      <td>Female</td>\n",
       "      <td>81030.0</td>\n",
       "    </tr>\n",
       "    <tr>\n",
       "      <th>7</th>\n",
       "      <td>9</td>\n",
       "      <td>Vats</td>\n",
       "      <td>Male</td>\n",
       "      <td>71900.0</td>\n",
       "    </tr>\n",
       "  </tbody>\n",
       "</table>\n",
       "</div>"
      ],
      "text/plain": [
       "   index   Name  Gender  MonthlyIncome (Rs.)\n",
       "0      0   Shah    Male             114000.0\n",
       "1      1   Vats    Male              65000.0\n",
       "2      3  Kumar  Female              69500.0\n",
       "3      4   Vats  Female             155000.0\n",
       "4      5  Kumar    Male             103000.0\n",
       "5      7   Shah  Female             112400.0\n",
       "6      8  Kumar  Female              81030.0\n",
       "7      9   Vats    Male              71900.0"
      ]
     },
     "metadata": {},
     "output_type": "display_data"
    }
   ],
   "source": [
    "print('Income of all members > 60k\\n')\n",
    "display(df[df['MonthlyIncome (Rs.)'] > 60000.00].reset_index())"
   ]
  },
  {
   "cell_type": "code",
   "execution_count": 44,
   "id": "760df135-c757-43fc-bed6-c62e938e8152",
   "metadata": {},
   "outputs": [
    {
     "data": {
      "text/plain": [
       "112400.0"
      ]
     },
     "execution_count": 44,
     "metadata": {},
     "output_type": "execute_result"
    }
   ],
   "source": [
    "avg_income_f = df.where((df['Gender'] == 'Female') & (df['Name'] == 'Shah')).dropna()\n",
    "avg_income_f['MonthlyIncome (Rs.)'].mean()"
   ]
  }
 ],
 "metadata": {
  "kernelspec": {
   "display_name": "Python 3 (ipykernel)",
   "language": "python",
   "name": "python3"
  },
  "language_info": {
   "codemirror_mode": {
    "name": "ipython",
    "version": 3
   },
   "file_extension": ".py",
   "mimetype": "text/x-python",
   "name": "python",
   "nbconvert_exporter": "python",
   "pygments_lexer": "ipython3",
   "version": "3.11.5"
  }
 },
 "nbformat": 4,
 "nbformat_minor": 5
}
