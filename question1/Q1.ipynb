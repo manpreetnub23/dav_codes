{
 "cells": [
  {
   "cell_type": "code",
   "execution_count": 1,
   "id": "0252f635-1518-4622-92d3-50e6a52e506c",
   "metadata": {},
   "outputs": [],
   "source": [
    "from itertools import zip_longest"
   ]
  },
  {
   "cell_type": "code",
   "execution_count": 4,
   "id": "5626d926-479b-4b8a-a7dc-23577f18337e",
   "metadata": {},
   "outputs": [
    {
     "name": "stdout",
     "output_type": "stream",
     "text": [
      "[{'Boys': 72, 'Girls': 63}, {'Boys': 68, 'Girls': 65}, {'Boys': 70, 'Girls': 69}, {'Boys': 69, 'Girls': 62}, {'Boys': 74, 'Girls': 61}]\n"
     ]
    }
   ],
   "source": [
    "dic = {'Boys':[72,68,70,69,74],'Girls':[63,65,69,62,61]}\n",
    "k1,k2 = dic.keys()\n",
    "v1,v2 = dic.values()\n",
    "res = [{k1:i,k2:j}for i,j in zip_longest(v1,v2)]\n",
    "print(res)"
   ]
  }
 ],
 "metadata": {
  "kernelspec": {
   "display_name": "Python 3 (ipykernel)",
   "language": "python",
   "name": "python3"
  },
  "language_info": {
   "codemirror_mode": {
    "name": "ipython",
    "version": 3
   },
   "file_extension": ".py",
   "mimetype": "text/x-python",
   "name": "python",
   "nbconvert_exporter": "python",
   "pygments_lexer": "ipython3",
   "version": "3.11.5"
  }
 },
 "nbformat": 4,
 "nbformat_minor": 5
}
